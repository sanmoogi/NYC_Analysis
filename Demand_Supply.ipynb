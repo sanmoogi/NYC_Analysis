{
 "cells": [
  {
   "cell_type": "code",
   "execution_count": 1,
   "metadata": {},
   "outputs": [],
   "source": [
    "import pandas as pd\n",
    "import numpy as np\n",
    "import matplotlib.pyplot as plt\n",
    "from matplotlib.gridspec import GridSpec\n",
    "%matplotlib inline\n",
    "\n",
    "pd.options.display.float_format = '{:.0f}'.format"
   ]
  },
  {
   "cell_type": "code",
   "execution_count": 2,
   "metadata": {},
   "outputs": [],
   "source": [
    "path=\"C:/Sanajivv/sandipan/\""
   ]
  },
  {
   "cell_type": "code",
   "execution_count": 4,
   "metadata": {},
   "outputs": [
    {
     "name": "stdout",
     "output_type": "stream",
     "text": [
      "   Job-Code                       JRSS/Position-Title    Years-of-Exp  \\\n",
      "0  161755BR  Application Architect-Cloud Applications     6 - 8 years   \n",
      "1  164990BR    Project Manager-Hybrid Cloud Solutions        8+ Years   \n",
      "2  164989BR    Project Manager-Hybrid Cloud Solutions        8+ Years   \n",
      "3  165032BR            Application Developer-Security  4+ to 6  years   \n",
      "4  165031BR            Application Developer-Security  4+ to 6  years   \n",
      "5  165469BR     Application Consultant-Agile & DevOps     6 - 8 years   \n",
      "6  165468BR     Application Consultant-Agile & DevOps     6 - 8 years   \n",
      "7  165467BR     Application Consultant-Agile & DevOps     6 - 8 years   \n",
      "8  165465BR     Application Consultant-Agile & DevOps     6 - 8 years   \n",
      "9  165463BR     Application Consultant-Agile & DevOps     6 - 8 years   \n",
      "\n",
      "  Joining-Location                       India-Reporting  Service-Line  \n",
      "0        Bangalore  Cloud Application Migration Services           nan  \n",
      "1        Bangalore  Cloud Application Migration Services           nan  \n",
      "2        Bangalore  Cloud Application Migration Services           nan  \n",
      "3             Pune  Cloud Application Migration Services           nan  \n",
      "4             Pune  Cloud Application Migration Services           nan  \n",
      "5        Bangalore  Cloud Application Migration Services           nan  \n",
      "6        Bangalore  Cloud Application Migration Services           nan  \n",
      "7        Bangalore  Cloud Application Migration Services           nan  \n",
      "8        Bangalore  Cloud Application Migration Services           nan  \n",
      "9        Bangalore  Cloud Application Migration Services           nan  \n"
     ]
    },
    {
     "data": {
      "text/html": [
       "<div>\n",
       "<style scoped>\n",
       "    .dataframe tbody tr th:only-of-type {\n",
       "        vertical-align: middle;\n",
       "    }\n",
       "\n",
       "    .dataframe tbody tr th {\n",
       "        vertical-align: top;\n",
       "    }\n",
       "\n",
       "    .dataframe thead th {\n",
       "        text-align: right;\n",
       "    }\n",
       "</style>\n",
       "<table border=\"1\" class=\"dataframe\">\n",
       "  <thead>\n",
       "    <tr style=\"text-align: right;\">\n",
       "      <th></th>\n",
       "      <th>Joining-Location</th>\n",
       "      <th>count</th>\n",
       "    </tr>\n",
       "  </thead>\n",
       "  <tbody>\n",
       "    <tr>\n",
       "      <th>0</th>\n",
       "      <td>Bangalore</td>\n",
       "      <td>290</td>\n",
       "    </tr>\n",
       "    <tr>\n",
       "      <th>1</th>\n",
       "      <td>Gurgaon</td>\n",
       "      <td>12</td>\n",
       "    </tr>\n",
       "    <tr>\n",
       "      <th>2</th>\n",
       "      <td>Hyderabad</td>\n",
       "      <td>31</td>\n",
       "    </tr>\n",
       "    <tr>\n",
       "      <th>3</th>\n",
       "      <td>Pune</td>\n",
       "      <td>31</td>\n",
       "    </tr>\n",
       "  </tbody>\n",
       "</table>\n",
       "</div>"
      ],
      "text/plain": [
       "  Joining-Location  count\n",
       "0        Bangalore    290\n",
       "1          Gurgaon     12\n",
       "2        Hyderabad     31\n",
       "3             Pune     31"
      ]
     },
     "execution_count": 4,
     "metadata": {},
     "output_type": "execute_result"
    }
   ],
   "source": [
    "supply = pd.read_csv(path + 'Supply.csv')\n",
    "supply.head(10)\n",
    "print(str(supply.head(10)))\n",
    "supply_location_join = supply.groupby(['Joining-Location']).size()\n",
    "location_count = supply_location_join.reset_index(name = 'count')\n",
    "location_count"
   ]
  },
  {
   "cell_type": "code",
   "execution_count": 7,
   "metadata": {},
   "outputs": [
    {
     "data": {
      "text/plain": [
       "([<matplotlib.patches.Wedge at 0x2a37fa9cc88>,\n",
       "  <matplotlib.patches.Wedge at 0x2a37faa8630>,\n",
       "  <matplotlib.patches.Wedge at 0x2a37fab4080>,\n",
       "  <matplotlib.patches.Wedge at 0x2a37fab4b00>],\n",
       " [Text(-0.883175,0.655746,'Bangalore'),\n",
       "  Text(0.425333,-1.01444,'Gurgaon'),\n",
       "  Text(0.764276,-0.791127,'Hyderabad'),\n",
       "  Text(1.06086,-0.29081,'Pune')],\n",
       " [Text(-0.481732,0.35768,'79.7%'),\n",
       "  Text(0.232,-0.553332,'3.3%'),\n",
       "  Text(0.416878,-0.431524,'8.5%'),\n",
       "  Text(0.578652,-0.158624,'8.5%')])"
      ]
     },
     "execution_count": 7,
     "metadata": {},
     "output_type": "execute_result"
    },
    {
     "data": {
      "image/png": "[encoded data removed]",
      "text/plain": [
       "<matplotlib.figure.Figure at 0x2a37fa63978>"
      ]
     },
     "metadata": {},
     "output_type": "display_data"
    }
   ],
   "source": [
    "#resetindex = location_count.reset_index()\n",
    "#plt_data = resetindex[['flight' , 'dep_delay']].sort_values(['dep_delay'], ascending=False).iloc[:50]\n",
    "plot_Data_Pie= location_count['Joining-Location']\n",
    "loc_count = location_count['count']\n",
    "explode = (0, 0.05, 0, 0)\n",
    "\n",
    "the_grid = GridSpec(2, 2)\n",
    "\n",
    "plt.subplot(the_grid[0, 0], aspect=1)\n",
    "\n",
    "plt.pie(loc_count, labels=plot_Data_Pie, autopct='%1.1f%%', shadow=True)\n"
   ]
  },
  {
   "cell_type": "code",
   "execution_count": 6,
   "metadata": {},
   "outputs": [
    {
     "name": "stdout",
     "output_type": "stream",
     "text": [
      "                                  JRSS/Position-Title  supply\n",
      "0            Application Architect-Cloud Applications       1\n",
      "1            Application Architect-Custom Development       1\n",
      "2                     Application Architect-SAP.Basis       3\n",
      "3                  Application Architect-SAP.Security       5\n",
      "4          Application Architect-SAP.Solution Manager       2\n",
      "5               Application Consultant-Agile & DevOps      28\n",
      "6          Application Consultant-Cloud.Microservices       7\n",
      "7          Application Developer-Big Data BigInsights      25\n",
      "8                Application Developer-Big Data Tools       2\n",
      "9                           Application Developer-C++       4\n",
      "10                        Application Developer-COBOL       3\n",
      "11          Application Developer-Cloud.Microservices      12\n",
      "12                       Application Developer-DevOps       4\n",
      "13  Application Developer-Enterprise Content Manag...       1\n",
      "14  Application Developer-Experience Engineering.F...      43\n",
      "15               Application Developer-Java.FullStack      16\n",
      "16      Application Developer-Java.Spring & Hibernate      30\n",
      "17          Application Developer-MS Dynamics 365 CRM      10\n",
      "18                Application Developer-Microservices      15\n",
      "19          Application Developer-Microsoft Analytics       6\n",
      "20               Application Developer-Mobile.Android       7\n",
      "21                   Application Developer-Mobile.iOS       9\n",
      "22              Application Developer-Oracle Database       4\n",
      "23             Application Developer-Process Workflow       3\n",
      "24                     Application Developer-SAP.ABAP       1\n",
      "25                     Application Developer-SAP.BOBJ       1\n",
      "26                       Application Developer-SAP.BW       2\n",
      "27                  Application Developer-SAP.Portals       2\n",
      "28                     Application Developer-Security       2\n",
      "29  Application Developer-WebSphere Business Integ...       8\n",
      "30  Data Management Support Specialist-Master Data...       6\n",
      "31             Data Specialist-Master Data Management       5\n",
      "32    Infrastructure Specialist-Hybrid Cloud Platform       4\n",
      "33            Package Solution Consultant-Oracle Edge       2\n",
      "34              Package Solution Consultant-SAP.Ariba       1\n",
      "35               Package Solution Consultant-SAP.BOBJ       1\n",
      "36             Package Solution Consultant-SAP.FIN.CO       3\n",
      "37             Package Solution Consultant-SAP.FIN.FI       4\n",
      "38               Package Solution Consultant-SAP.HANA       1\n",
      "39        Package Solution Consultant-SAP.Hana.FIN.FI       1\n",
      "40             Package Solution Consultant-SAP.SCM.MM       2\n",
      "41             Package Solution Consultant-SAP.SCM.PP       2\n",
      "42             Package Solution Consultant-SAP.SCM.SD       3\n",
      "43             Package Solution Consultant-Salesforce      22\n",
      "44           Package Solution Consultant-Sterling.OMS       8\n",
      "45        Package Solution Consultant-Workday.Payroll       5\n",
      "46  Packaged Application Enablement Specialist-Hyp...       1\n",
      "47  Packaged Application Enablement Specialist-Ora...       2\n",
      "48  Packaged Application Enablement Specialist-Ora...       3\n",
      "49  Packaged Application Enablement Specialist-Ora...       1\n",
      "50  Packaged Application Enablement Specialist-Ora...       1\n",
      "51  Packaged Application Enablement Specialist-Ora...       1\n",
      "52  Packaged Application Enablement Specialist-SAP...       1\n",
      "53  Packaged Application Enablement Specialist-SAP...       1\n",
      "54  Packaged Application Enablement Specialist-SAP...       4\n",
      "55  Packaged Application Enablement Specialist-SAP...       1\n",
      "56  Packaged Application Enablement Specialist-SAP...       6\n",
      "57             Project Manager-Hybrid Cloud Solutions       2\n",
      "58                    Test Specialist-Test Automation      12\n",
      "59                   Test Specialist: Automation SDET       1\n"
     ]
    },
    {
     "data": {
      "text/plain": [
       "['supply', 'JRSS/Position-Title']"
      ]
     },
     "execution_count": 6,
     "metadata": {},
     "output_type": "execute_result"
    }
   ],
   "source": [
    "# Grouping by JRSS\n",
    "jrss_only = supply.groupby(['JRSS/Position-Title']).size()\n",
    "#print(jrss_only)\n",
    "#print(sorted(jrss_only,reverse=True))\n",
    "jrss_count_sup = jrss_only.reset_index(name = 'supply')\n",
    "print(jrss_count_sup)\n",
    "sup_max = sorted(jrss_count_sup,reverse=True)\n",
    "first_10_records = sup_max[0:10]\n",
    "first_10_records"
   ]
  },
  {
   "cell_type": "code",
   "execution_count": null,
   "metadata": {},
   "outputs": [],
   "source": []
  },
  {
   "cell_type": "code",
   "execution_count": 8,
   "metadata": {},
   "outputs": [
    {
     "name": "stdout",
     "output_type": "stream",
     "text": [
      "     Job Code                              JRSS/Position-Title  \\\n",
      "0    161755BR         Application Architect-Cloud Applications   \n",
      "1    164990BR           Project Manager-Hybrid Cloud Solutions   \n",
      "2    164989BR           Project Manager-Hybrid Cloud Solutions   \n",
      "3    165032BR                   Application Developer-Security   \n",
      "4    165031BR                   Application Developer-Security   \n",
      "5    165469BR            Application Consultant-Agile & DevOps   \n",
      "6    165468BR            Application Consultant-Agile & DevOps   \n",
      "7    165467BR            Application Consultant-Agile & DevOps   \n",
      "8    165465BR            Application Consultant-Agile & DevOps   \n",
      "9    165463BR            Application Consultant-Agile & DevOps   \n",
      "10   165462BR            Application Consultant-Agile & DevOps   \n",
      "11   165789BR  Infrastructure Specialist-Hybrid Cloud Platform   \n",
      "12   165788BR  Infrastructure Specialist-Hybrid Cloud Platform   \n",
      "13   165461BR            Application Consultant-Agile & DevOps   \n",
      "14   165460BR            Application Consultant-Agile & DevOps   \n",
      "15   165459BR            Application Consultant-Agile & DevOps   \n",
      "16   165458BR            Application Consultant-Agile & DevOps   \n",
      "17   165457BR            Application Consultant-Agile & DevOps   \n",
      "18   165456BR            Application Consultant-Agile & DevOps   \n",
      "19   165455BR            Application Consultant-Agile & DevOps   \n",
      "20   165481BR       Application Consultant-Cloud.Microservices   \n",
      "21   165484BR       Application Consultant-Cloud.Microservices   \n",
      "22   165483BR       Application Consultant-Cloud.Microservices   \n",
      "23   165482BR       Application Consultant-Cloud.Microservices   \n",
      "24   165534BR        Application Developer-Cloud.Microservices   \n",
      "25   165533BR        Application Developer-Cloud.Microservices   \n",
      "26   165532BR        Application Developer-Cloud.Microservices   \n",
      "27   165543BR        Application Developer-Cloud.Microservices   \n",
      "28   165541BR        Application Developer-Cloud.Microservices   \n",
      "29   165548BR                     Application Developer-DevOps   \n",
      "..        ...                                              ...   \n",
      "401  164683BR            Package Solution Consultant-SAP.Ariba   \n",
      "402  161482BR                  Test Specialist-Test Automation   \n",
      "403  165726BR                  Test Specialist-Test Automation   \n",
      "404  165727BR                  Test Specialist-Test Automation   \n",
      "405  165729BR                  Test Specialist-Test Automation   \n",
      "406  165916BR                  Test Specialist-Test Automation   \n",
      "407  165918BR                  Test Specialist-Test Automation   \n",
      "408  165919BR                  Test Specialist-Test Automation   \n",
      "409  165926BR                  Test Specialist-Test Automation   \n",
      "410  165927BR                  Test Specialist-Test Automation   \n",
      "411  165929BR                  Test Specialist-Test Automation   \n",
      "412  165930BR                  Test Specialist-Test Automation   \n",
      "413  165933BR                  Test Specialist-Test Automation   \n",
      "414  165934BR                  Test Specialist-Test Automation   \n",
      "415  165938BR                  Test Specialist-Test Automation   \n",
      "416  165940BR                  Test Specialist-Test Automation   \n",
      "417  166093BR                  Test Specialist-Test Automation   \n",
      "418  166094BR                  Test Specialist-Test Automation   \n",
      "419  166095BR                  Test Specialist-Test Automation   \n",
      "420  166098BR                  Test Specialist-Test Automation   \n",
      "421  166203BR                  Test Specialist-Test Automation   \n",
      "422  166300BR                  Test Specialist-Test Automation   \n",
      "423  166301BR                  Test Specialist-Test Automation   \n",
      "424  166303BR                  Test Specialist-Test Automation   \n",
      "425  166304BR                  Test Specialist-Test Automation   \n",
      "426  166305BR                  Test Specialist-Test Automation   \n",
      "427  166307BR                  Test Specialist-Test Automation   \n",
      "428  166308BR                  Test Specialist-Test Automation   \n",
      "429  166309BR                  Test Specialist-Test Automation   \n",
      "430  167268BR                 Test Specialist: Automation SDET   \n",
      "\n",
      "        Years of Exp Joining Location        India Reporting - Service Line  \n",
      "0        6 - 8 years        Bangalore  Cloud Application Migration Services  \n",
      "1          8 + Years        Bangalore  Cloud Application Migration Services  \n",
      "2          8 + Years        Bangalore  Cloud Application Migration Services  \n",
      "3     4+ to 6  years             Pune  Cloud Application Migration Services  \n",
      "4    4+ to 6  years              Pune  Cloud Application Migration Services  \n",
      "5        6 - 8 years        Bangalore  Cloud Application Migration Services  \n",
      "6        6 - 8 years        Bangalore  Cloud Application Migration Services  \n",
      "7        6 - 8 years        Bangalore  Cloud Application Migration Services  \n",
      "8        6 - 8 years        Bangalore  Cloud Application Migration Services  \n",
      "9        6 - 8 years        Bangalore  Cloud Application Migration Services  \n",
      "10       6 - 8 years        Bangalore  Cloud Application Migration Services  \n",
      "11       6 - 8 years        Bangalore  Cloud Application Migration Services  \n",
      "12       6 - 8 years        Bangalore  Cloud Application Migration Services  \n",
      "13   4+ to 6  years         Bangalore  Cloud Application Migration Services  \n",
      "14   4+ to 6  years         Bangalore  Cloud Application Migration Services  \n",
      "15   4+ to 6  years         Bangalore  Cloud Application Migration Services  \n",
      "16   4+ to 6  years         Bangalore  Cloud Application Migration Services  \n",
      "17   4+ to 6  years         Bangalore  Cloud Application Migration Services  \n",
      "18   4+ to 6  years         Bangalore  Cloud Application Migration Services  \n",
      "19   4+ to 6  years         Bangalore  Cloud Application Migration Services  \n",
      "20   4+ to 6  years         Bangalore  Cloud Application Migration Services  \n",
      "21   4+ to 6  years         Bangalore  Cloud Application Migration Services  \n",
      "22   4+ to 6  years         Bangalore  Cloud Application Migration Services  \n",
      "23   4+ to 6  years         Bangalore  Cloud Application Migration Services  \n",
      "24   4+ to 6  years         Bangalore  Cloud Application Migration Services  \n",
      "25   4+ to 6  years         Bangalore  Cloud Application Migration Services  \n",
      "26   4+ to 6  years         Bangalore  Cloud Application Migration Services  \n",
      "27         3+ years         Bangalore  Cloud Application Migration Services  \n",
      "28         3+ years         Bangalore  Cloud Application Migration Services  \n",
      "29   4+ to 6  years         Bangalore  Cloud Application Migration Services  \n",
      "..               ...              ...                                   ...  \n",
      "401         3+ years             Pune                                   SAP  \n",
      "402   4+ to 6  years        Hyderabad                                iGNITE  \n",
      "403   4+ to 6  years        Bangalore                                iGNITE  \n",
      "404   4+ to 6  years        Bangalore                                iGNITE  \n",
      "405   4+ to 6  years        Bangalore                                iGNITE  \n",
      "406   4+ to 6  years        Bangalore                                iGNITE  \n",
      "407   4+ to 6  years        Bangalore                                iGNITE  \n",
      "408   4+ to 6  years        Bangalore                                iGNITE  \n",
      "409         3+ years        Bangalore                                iGNITE  \n",
      "410         3+ years        Bangalore                                iGNITE  \n",
      "411         3+ years        Bangalore                                iGNITE  \n",
      "412         3+ years        Bangalore                                iGNITE  \n",
      "413   4+ to 6  years        Bangalore                                iGNITE  \n",
      "414   4+ to 6  years        Bangalore                                iGNITE  \n",
      "415   4+ to 6  years        Bangalore                                iGNITE  \n",
      "416   4+ to 6  years        Bangalore                                iGNITE  \n",
      "417         3+ years        Bangalore                                iGNITE  \n",
      "418         3+ years        Bangalore                                iGNITE  \n",
      "419         3+ years        Bangalore                                iGNITE  \n",
      "420         3+ years        Bangalore                                iGNITE  \n",
      "421         3+ years        Hyderabad                                iGNITE  \n",
      "422         3+ years        Hyderabad                                iGNITE  \n",
      "423         3+ years        Hyderabad                                iGNITE  \n",
      "424         3+ years        Hyderabad                                iGNITE  \n",
      "425         3+ years        Hyderabad                                iGNITE  \n",
      "426         3+ years        Bangalore                                iGNITE  \n",
      "427         3+ years        Bangalore                                iGNITE  \n",
      "428         3+ years        Bangalore                                iGNITE  \n",
      "429         3+ years        Bangalore                                iGNITE  \n",
      "430        3+ Years              Pune                                iGNITE  \n",
      "\n",
      "[431 rows x 5 columns]\n"
     ]
    },
    {
     "data": {
      "text/html": [
       "<div>\n",
       "<style scoped>\n",
       "    .dataframe tbody tr th:only-of-type {\n",
       "        vertical-align: middle;\n",
       "    }\n",
       "\n",
       "    .dataframe tbody tr th {\n",
       "        vertical-align: top;\n",
       "    }\n",
       "\n",
       "    .dataframe thead th {\n",
       "        text-align: right;\n",
       "    }\n",
       "</style>\n",
       "<table border=\"1\" class=\"dataframe\">\n",
       "  <thead>\n",
       "    <tr style=\"text-align: right;\">\n",
       "      <th></th>\n",
       "      <th>Joining Location</th>\n",
       "      <th>Demand</th>\n",
       "    </tr>\n",
       "  </thead>\n",
       "  <tbody>\n",
       "    <tr>\n",
       "      <th>0</th>\n",
       "      <td>Bangalore</td>\n",
       "      <td>355</td>\n",
       "    </tr>\n",
       "    <tr>\n",
       "      <th>1</th>\n",
       "      <td>Gurgaon</td>\n",
       "      <td>12</td>\n",
       "    </tr>\n",
       "    <tr>\n",
       "      <th>2</th>\n",
       "      <td>Hyderabad</td>\n",
       "      <td>32</td>\n",
       "    </tr>\n",
       "    <tr>\n",
       "      <th>3</th>\n",
       "      <td>Pune</td>\n",
       "      <td>32</td>\n",
       "    </tr>\n",
       "  </tbody>\n",
       "</table>\n",
       "</div>"
      ],
      "text/plain": [
       "  Joining Location  Demand\n",
       "0        Bangalore     355\n",
       "1          Gurgaon      12\n",
       "2        Hyderabad      32\n",
       "3             Pune      32"
      ]
     },
     "execution_count": 8,
     "metadata": {},
     "output_type": "execute_result"
    }
   ],
   "source": [
    "demand = pd.read_csv(path + 'Demand.csv')\n",
    "demand.head(10)\n",
    "print(demand)\n",
    "demand_location_join = demand.groupby(['Joining Location']).size()\n",
    "demand_count = demand_location_join.reset_index(name = 'Demand')\n",
    "demand_count.head(10)"
   ]
  },
  {
   "cell_type": "code",
   "execution_count": 10,
   "metadata": {},
   "outputs": [
    {
     "data": {
      "text/plain": [
       "([<matplotlib.patches.Wedge at 0x2a37fcf07f0>,\n",
       "  <matplotlib.patches.Wedge at 0x2a37fcf91d0>,\n",
       "  <matplotlib.patches.Wedge at 0x2a37fcf9c50>,\n",
       "  <matplotlib.patches.Wedge at 0x2a37fd04710>],\n",
       " [Text(-0.935487,0.578674,'Bangalore'),\n",
       "  Text(0.575261,-0.93759,'Gurgaon'),\n",
       "  Text(0.841503,-0.70843,'Hyderabad'),\n",
       "  Text(1.07021,-0.254255,'Pune')],\n",
       " [Text(-0.510266,0.315641,'82.4%'),\n",
       "  Text(0.313779,-0.511413,'2.8%'),\n",
       "  Text(0.459001,-0.386416,'7.4%'),\n",
       "  Text(0.583752,-0.138685,'7.4%')])"
      ]
     },
     "execution_count": 10,
     "metadata": {},
     "output_type": "execute_result"
    },
    {
     "data": {
      "image/png": "[encoded data removed]",
      "text/plain": [
       "<matplotlib.figure.Figure at 0x2a37fcbf358>"
      ]
     },
     "metadata": {},
     "output_type": "display_data"
    }
   ],
   "source": [
    "demand_loc_count = demand_count['Demand']\n",
    "explode = (0, 0.05, 0, 0)\n",
    "\n",
    "the_grid = GridSpec(1, 1)\n",
    "\n",
    "plt.subplot(the_grid[0, 0], aspect=1)\n",
    "\n",
    "plt.pie(demand_loc_count, labels=plot_Data_Pie, autopct='%1.1f%%', shadow=True)"
   ]
  },
  {
   "cell_type": "code",
   "execution_count": 11,
   "metadata": {},
   "outputs": [
    {
     "name": "stdout",
     "output_type": "stream",
     "text": [
      "                                  JRSS/Position-Title  Demand\n",
      "0            Application Architect-Cloud Applications       1\n",
      "1            Application Architect-Custom Development       1\n",
      "2                     Application Architect-SAP.Basis       3\n",
      "3                  Application Architect-SAP.Security       5\n",
      "4          Application Architect-SAP.Solution Manager       2\n",
      "5               Application Consultant-Agile & DevOps      49\n",
      "6          Application Consultant-Cloud.Microservices      11\n",
      "7          Application Developer-Big Data BigInsights      19\n",
      "8                Application Developer-Big Data Tools       2\n",
      "9                           Application Developer-C++       4\n",
      "10                        Application Developer-COBOL       3\n",
      "11          Application Developer-Cloud.Microservices      19\n",
      "12                       Application Developer-DevOps       6\n",
      "13  Application Developer-Enterprise Content Manag...       1\n",
      "14  Application Developer-Experience Engineering.F...      51\n",
      "15               Application Developer-Java.FullStack      16\n",
      "16      Application Developer-Java.Spring & Hibernate      30\n",
      "17          Application Developer-MS Dynamics 365 CRM      16\n",
      "18                Application Developer-Microservices      15\n",
      "19          Application Developer-Microsoft Analytics       6\n",
      "20               Application Developer-Mobile.Android       7\n",
      "21                   Application Developer-Mobile.iOS       9\n",
      "22              Application Developer-Oracle Database       4\n",
      "23             Application Developer-Process Workflow       3\n",
      "24                     Application Developer-SAP.ABAP       1\n",
      "25                     Application Developer-SAP.BOBJ       1\n",
      "26                       Application Developer-SAP.BW       2\n",
      "27                  Application Developer-SAP.Portals       2\n",
      "28                     Application Developer-Security       3\n",
      "29  Application Developer-WebSphere Business Integ...       8\n",
      "30  Data Management Support Specialist-Master Data...       6\n",
      "31             Data Specialist-Master Data Management       5\n",
      "32    Infrastructure Specialist-Hybrid Cloud Platform       6\n",
      "33            Package Solution Consultant-Oracle Edge       2\n",
      "34              Package Solution Consultant-SAP.Ariba       1\n",
      "35               Package Solution Consultant-SAP.BOBJ       1\n",
      "36             Package Solution Consultant-SAP.FIN.CO       3\n",
      "37             Package Solution Consultant-SAP.FIN.FI       4\n",
      "38               Package Solution Consultant-SAP.HANA       1\n",
      "39        Package Solution Consultant-SAP.Hana.FIN.FI       1\n",
      "40             Package Solution Consultant-SAP.SCM.MM       2\n",
      "41             Package Solution Consultant-SAP.SCM.PP       2\n",
      "42             Package Solution Consultant-SAP.SCM.SD       3\n",
      "43             Package Solution Consultant-Salesforce      28\n",
      "44           Package Solution Consultant-Sterling.OMS       8\n",
      "45        Package Solution Consultant-Workday.Payroll       5\n",
      "46  Packaged Application Enablement Specialist-Hyp...       1\n",
      "47  Packaged Application Enablement Specialist-Ora...       2\n",
      "48  Packaged Application Enablement Specialist-Ora...       3\n",
      "49  Packaged Application Enablement Specialist-Ora...       1\n",
      "50  Packaged Application Enablement Specialist-Ora...       1\n",
      "51  Packaged Application Enablement Specialist-Ora...       1\n",
      "52  Packaged Application Enablement Specialist-SAP...       1\n",
      "53  Packaged Application Enablement Specialist-SAP...       1\n",
      "54  Packaged Application Enablement Specialist-SAP...       4\n",
      "55  Packaged Application Enablement Specialist-SAP...       1\n",
      "56  Packaged Application Enablement Specialist-SAP...       6\n",
      "57             Project Manager-Hybrid Cloud Solutions       2\n",
      "58                    Test Specialist-Test Automation      28\n",
      "59                   Test Specialist: Automation SDET       1\n"
     ]
    },
    {
     "data": {
      "text/plain": [
       "['JRSS/Position-Title', 'Demand']"
      ]
     },
     "execution_count": 11,
     "metadata": {},
     "output_type": "execute_result"
    }
   ],
   "source": [
    "jrss_only = demand.groupby(['JRSS/Position-Title']).size()\n",
    "#print(jrss_only)\n",
    "#print(sorted(jrss_only,reverse=True))\n",
    "jrss_count_dem = jrss_only.reset_index(name = 'Demand')\n",
    "print(jrss_count_dem)\n",
    "dem_max = sorted(jrss_count_dem,reverse=True)\n",
    "first_10_records = dem_max[0:10]\n",
    "first_10_records"
   ]
  },
  {
   "cell_type": "code",
   "execution_count": 12,
   "metadata": {},
   "outputs": [],
   "source": [
    "new_datafm = pd.merge(jrss_count_sup, jrss_count_dem , on=['JRSS/Position-Title'], how ='inner')\n",
    "new_datafm.sort_values(['supply','Demand'], ascending=[False, False], inplace=True)\n",
    "\n",
    "#new_datafm.groupby([['JRSS/Position-Title','supply','Demand']].sum().unstack().plot(kind='bar'))"
   ]
  },
  {
   "cell_type": "code",
   "execution_count": 47,
   "metadata": {},
   "outputs": [],
   "source": [
    "plot_df = pd.DataFrame(new_datafm, columns = ['JRSS/Position-Title','supply','Demand'])\n",
    "pt = plot_df[0:10]"
   ]
  },
  {
   "cell_type": "code",
   "execution_count": 48,
   "metadata": {},
   "outputs": [
    {
     "data": {
      "image/png": "[encoded data removed]",
      "text/plain": [
       "<matplotlib.figure.Figure at 0x2a3004361d0>"
      ]
     },
     "metadata": {},
     "output_type": "display_data"
    }
   ],
   "source": [
    "plt.style.use('ggplot')\n",
    "ax = pt[['supply','Demand']].plot.bar(x = pt['JRSS/Position-Title'], rot = 90, title =\"JRSS Supply and Demand\",figsize=(10,5),legend=True, fontsize=12)\n",
    "ax.legend(loc ='center left' , bbox_to_anchor=(1, 0.5))\n",
    "ax.set_xlabel(\"JRSS\",fontsize=12)\n",
    "ax.set_ylabel(\"Demand/Supply\",fontsize=12)\n",
    "plt.show()"
   ]
  },
  {
   "cell_type": "code",
   "execution_count": null,
   "metadata": {},
   "outputs": [],
   "source": []
  }
 ],
 "metadata": {
  "kernelspec": {
   "display_name": "Python 3",
   "language": "python",
   "name": "python3"
  },
  "language_info": {
   "codemirror_mode": {
    "name": "ipython",
    "version": 3
   },
   "file_extension": ".py",
   "mimetype": "text/x-python",
   "name": "python",
   "nbconvert_exporter": "python",
   "pygments_lexer": "ipython3",
   "version": "3.6.4"
  }
 },
 "nbformat": 4,
 "nbformat_minor": 2
}
